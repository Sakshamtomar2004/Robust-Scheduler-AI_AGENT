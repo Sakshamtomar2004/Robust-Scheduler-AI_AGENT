{
 "cells": [
  {
   "cell_type": "code",
   "execution_count": 2,
   "id": "e5247406",
   "metadata": {},
   "outputs": [],
   "source": [
    "import sqlite3\n",
    "\n",
    "conn=sqlite3.connect('my_database.db')"
   ]
  },
  {
   "cell_type": "code",
   "execution_count": 3,
   "id": "37e71056",
   "metadata": {},
   "outputs": [],
   "source": [
    "cur=conn.cursor()"
   ]
  },
  {
   "cell_type": "code",
   "execution_count": 4,
   "id": "7501069a",
   "metadata": {},
   "outputs": [],
   "source": [
    "cur.execute('''\n",
    "CREATE TABLE IF NOT EXISTS students(\n",
    "            id INTEGER PRIMARY KEY AUTOINCREMENT,\n",
    "            name TEXT NOT NULL,\n",
    "            age INTEGER,\n",
    "            grade TEXT)\n",
    "            \n",
    "            \n",
    "            \n",
    "            ''')\n",
    "conn.commit()"
   ]
  },
  {
   "cell_type": "code",
   "execution_count": 5,
   "id": "eb63cbdb",
   "metadata": {},
   "outputs": [],
   "source": [
    "cur.execute(\n",
    "    'INSERT INTO students(name,age,grade) VALUES(?,?,?)',\n",
    "    ('Alice',14,'9th')\n",
    ")\n",
    "conn.commit()"
   ]
  },
  {
   "cell_type": "markdown",
   "id": "2f2e0cf9",
   "metadata": {},
   "source": [
    "Adding multiple student"
   ]
  },
  {
   "cell_type": "code",
   "execution_count": 6,
   "id": "6cc1a69c",
   "metadata": {},
   "outputs": [],
   "source": [
    "students_to_add = [\n",
    "    ('Bob',   15, '10th'),\n",
    "    ('Clara', 13, '8th'),\n",
    "    ('Dan',   14, '9th'),\n",
    "]\n",
    "cur.executemany(\n",
    "    'INSERT INTO students (name, age, grade) VALUES (?, ?, ?)',\n",
    "    students_to_add\n",
    ")\n",
    "conn.commit()\n"
   ]
  },
  {
   "cell_type": "markdown",
   "id": "90dc6b0e",
   "metadata": {},
   "source": [
    "FETCH ALL ROWS"
   ]
  },
  {
   "cell_type": "code",
   "execution_count": 7,
   "id": "f61efbe8",
   "metadata": {},
   "outputs": [
    {
     "name": "stdout",
     "output_type": "stream",
     "text": [
      "(1, 'Alice', 15, '10')\n",
      "(2, 'Bob', 16, '10th')\n",
      "(3, 'Clara', 14, '8th')\n",
      "(5, 'Alice', 14, '9th')\n",
      "(6, 'Bob', 15, '10th')\n",
      "(7, 'Clara', 13, '8th')\n",
      "(8, 'Dan', 14, '9th')\n"
     ]
    }
   ],
   "source": [
    "cur.execute('SELECT * FROM students')\n",
    "rows=cur.fetchall()\n",
    "for row in rows:\n",
    "    print(row)"
   ]
  },
  {
   "cell_type": "code",
   "execution_count": 8,
   "id": "f780ba96",
   "metadata": {},
   "outputs": [
    {
     "name": "stdout",
     "output_type": "stream",
     "text": [
      "(1, 'Alice', 15, '10')\n"
     ]
    }
   ],
   "source": [
    "cur.execute('SELECT * FROM students WHERE name=?',('Alice',))\n",
    "row=cur.fetchone()\n",
    "print(row)"
   ]
  },
  {
   "cell_type": "code",
   "execution_count": 9,
   "id": "50ba461a",
   "metadata": {},
   "outputs": [
    {
     "name": "stdout",
     "output_type": "stream",
     "text": [
      "(1, 'Alice')\n",
      "(2, 'Bob')\n",
      "(3, 'Clara')\n",
      "(5, 'Alice')\n",
      "(6, 'Bob')\n",
      "(7, 'Clara')\n",
      "(8, 'Dan')\n"
     ]
    }
   ],
   "source": [
    "for row in cur.execute('SELECT id, name FROM students'):\n",
    "    print(row)\n"
   ]
  },
  {
   "cell_type": "markdown",
   "id": "e4cb527a",
   "metadata": {},
   "source": [
    "Updating Data"
   ]
  },
  {
   "cell_type": "code",
   "execution_count": 10,
   "id": "ec9a7fb2",
   "metadata": {},
   "outputs": [],
   "source": [
    "cur.execute(\n",
    "    'UPDATE students SET grade=? WHERE name =?',\n",
    "    ('10','Alice')\n",
    ")\n",
    "conn.commit()"
   ]
  },
  {
   "cell_type": "code",
   "execution_count": 11,
   "id": "849537ac",
   "metadata": {},
   "outputs": [
    {
     "name": "stdout",
     "output_type": "stream",
     "text": [
      "(1, 'Alice', 15, '10')\n",
      "(2, 'Bob', 16, '10th')\n",
      "(3, 'Clara', 14, '8th')\n",
      "(5, 'Alice', 14, '10')\n",
      "(6, 'Bob', 15, '10th')\n",
      "(7, 'Clara', 13, '8th')\n",
      "(8, 'Dan', 14, '9th')\n"
     ]
    }
   ],
   "source": [
    "for x in cur.execute('SELECT * FROM students'):\n",
    "    print(x)"
   ]
  },
  {
   "cell_type": "code",
   "execution_count": 12,
   "id": "17cab796",
   "metadata": {},
   "outputs": [],
   "source": [
    "cur.execute('DELETE FROM students WHERE name=?',('Dan',))\n",
    "conn.commit()"
   ]
  },
  {
   "cell_type": "code",
   "execution_count": 13,
   "id": "6b8bb246",
   "metadata": {},
   "outputs": [],
   "source": [
    "try:\n",
    "    conn.execute('BEGIN')\n",
    "    cur.execute('UPDATE students SET age = age + 1')\n",
    "    # More operations...\n",
    "    conn.commit()\n",
    "except sqlite3.Error as e:\n",
    "    print('Error occurred:', e)\n",
    "    conn.rollback()\n"
   ]
  },
  {
   "cell_type": "code",
   "execution_count": 14,
   "id": "a33ed197",
   "metadata": {},
   "outputs": [
    {
     "name": "stdout",
     "output_type": "stream",
     "text": [
      "Alice 16\n",
      "Bob 17\n",
      "Clara 15\n",
      "Alice 15\n",
      "Bob 16\n",
      "Clara 14\n"
     ]
    }
   ],
   "source": [
    "conn.row_factory = sqlite3.Row\n",
    "cur = conn.cursor()\n",
    "\n",
    "cur.execute('SELECT * FROM students')\n",
    "rows = cur.fetchall()\n",
    "for row in rows:\n",
    "    print(row['name'],row['age'])\n",
    "\n"
   ]
  },
  {
   "cell_type": "code",
   "execution_count": 15,
   "id": "0c1a2aae",
   "metadata": {},
   "outputs": [
    {
     "name": "stdout",
     "output_type": "stream",
     "text": [
      "1 Alice 16\n",
      "2 Bob 17\n",
      "3 Clara 15\n",
      "5 Alice 15\n",
      "6 Bob 16\n",
      "7 Clara 14\n"
     ]
    }
   ],
   "source": [
    "import sqlite3\n",
    "conn=sqlite3.connect('my_database.db')\n",
    "cur  = conn.cursor()\n",
    "\n",
    "\n",
    "cur.execute('SELECT id, name, age FROM students')\n",
    "rows = cur.fetchall()\n",
    "\n",
    "for row in rows:\n",
    "    # row is a tuple: (id, name, age)\n",
    "    print(row[0], row[1], row[2])\n"
   ]
  },
  {
   "cell_type": "code",
   "execution_count": 16,
   "id": "7a5aa85c",
   "metadata": {},
   "outputs": [
    {
     "name": "stdout",
     "output_type": "stream",
     "text": [
      "1 Alice 16\n",
      "1 Alice 16\n",
      "2 Bob 17\n",
      "2 Bob 17\n",
      "3 Clara 15\n",
      "3 Clara 15\n",
      "5 Alice 15\n",
      "5 Alice 15\n",
      "6 Bob 16\n",
      "6 Bob 16\n",
      "7 Clara 14\n",
      "7 Clara 14\n"
     ]
    }
   ],
   "source": [
    "\n",
    "# Enable named-column access\n",
    "conn.row_factory = sqlite3.Row\n",
    "cur = conn.cursor()\n",
    "\n",
    "cur.execute('SELECT id, name, age FROM students')\n",
    "rows = cur.fetchall()\n",
    "\n",
    "for row in rows:\n",
    "    # row behaves like a dict *and* a tuple\n",
    "    print(row['id'], row['name'], row['age'])\n",
    "    print(row[0],row[1],row[2])\n"
   ]
  },
  {
   "cell_type": "code",
   "execution_count": 17,
   "id": "14f833e8",
   "metadata": {},
   "outputs": [],
   "source": [
    "#cur.close()\n",
    "#conn.close()"
   ]
  },
  {
   "cell_type": "code",
   "execution_count": 18,
   "id": "26ebb9c4",
   "metadata": {},
   "outputs": [],
   "source": [
    "cur.execute(\"SELECT * FROM students ORDER BY name\")\n",
    "a=[dict(x) for x in cur.fetchall()]"
   ]
  },
  {
   "cell_type": "code",
   "execution_count": 19,
   "id": "67a7952d",
   "metadata": {},
   "outputs": [
    {
     "data": {
      "text/plain": [
       "[{'id': 1, 'name': 'Alice', 'age': 16, 'grade': '10'},\n",
       " {'id': 5, 'name': 'Alice', 'age': 15, 'grade': '10'},\n",
       " {'id': 2, 'name': 'Bob', 'age': 17, 'grade': '10th'},\n",
       " {'id': 6, 'name': 'Bob', 'age': 16, 'grade': '10th'},\n",
       " {'id': 3, 'name': 'Clara', 'age': 15, 'grade': '8th'},\n",
       " {'id': 7, 'name': 'Clara', 'age': 14, 'grade': '8th'}]"
      ]
     },
     "execution_count": 19,
     "metadata": {},
     "output_type": "execute_result"
    }
   ],
   "source": [
    "a"
   ]
  },
  {
   "cell_type": "code",
   "execution_count": 22,
   "id": "4abcd2d8",
   "metadata": {},
   "outputs": [
    {
     "name": "stdout",
     "output_type": "stream",
     "text": [
      "{'id': 1, 'name': 'Alice', 'age': 16, 'grade': '10'}\n",
      "{'id': 5, 'name': 'Alice', 'age': 15, 'grade': '10'}\n",
      "{'id': 2, 'name': 'Bob', 'age': 17, 'grade': '10th'}\n",
      "{'id': 6, 'name': 'Bob', 'age': 16, 'grade': '10th'}\n",
      "{'id': 3, 'name': 'Clara', 'age': 15, 'grade': '8th'}\n",
      "{'id': 7, 'name': 'Clara', 'age': 14, 'grade': '8th'}\n"
     ]
    }
   ],
   "source": [
    "cur.execute(\"SELECT * FROM students ORDER BY name\")\n",
    "rows=cur.fetchall()\n",
    "for row in rows:\n",
    "    print(dict(row))"
   ]
  },
  {
   "cell_type": "code",
   "execution_count": null,
   "id": "1ff0eacc",
   "metadata": {},
   "outputs": [],
   "source": []
  }
 ],
 "metadata": {
  "kernelspec": {
   "display_name": "venv",
   "language": "python",
   "name": "python3"
  },
  "language_info": {
   "codemirror_mode": {
    "name": "ipython",
    "version": 3
   },
   "file_extension": ".py",
   "mimetype": "text/x-python",
   "name": "python",
   "nbconvert_exporter": "python",
   "pygments_lexer": "ipython3",
   "version": "3.13.5"
  }
 },
 "nbformat": 4,
 "nbformat_minor": 5
}
